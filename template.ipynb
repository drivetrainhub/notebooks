{
 "cells": [
  {
   "cell_type": "markdown",
   "metadata": {},
   "source": [
    "[<img align=\"left\" width=\"140px\" src=\"https://storage.googleapis.com/static.drivetrainhub.com/img/dh_logo_text_217x80.png\"/>](https://www.drivetrainhub.com)\n",
    "\n",
    "<div align=\"right\">© 2019 Drivetrain Hub LLC</div>"
   ]
  },
  {
   "cell_type": "markdown",
   "metadata": {},
   "source": [
    "# Category / Title\n",
    "---\n",
    "\n",
    "**Authors**:  [First Last](https://github.com/<username>)\n",
    "\n",
    "**Description**:  Description of the notebook."
   ]
  },
  {
   "cell_type": "markdown",
   "metadata": {},
   "source": [
    "## Table of Contents\n",
    "\n",
    "1. [Introduction](#Introduction)\n",
    "2. [Example Section](#Example-Section)\n",
    "    1. [Example Subsection 1](#Example-Subsection-1)\n",
    "    2. [Example Subsection 2](#Example-Subsection-2)\n",
    "3. [References](#References)"
   ]
  },
  {
   "cell_type": "markdown",
   "metadata": {
    "tags": [
     "hide_cell"
    ]
   },
   "source": [
    "Notebook imports and settings"
   ]
  },
  {
   "cell_type": "code",
   "execution_count": 12,
   "metadata": {
    "tags": [
     "hide_cell"
    ]
   },
   "outputs": [],
   "source": [
    "from math import pi"
   ]
  },
  {
   "cell_type": "markdown",
   "metadata": {},
   "source": [
    "## Introduction\n",
    "\n",
    "Example introduction to the notebook topic.\n",
    "\n",
    "### Nomenclature\n",
    "\n",
    "<table style=\"margin-left: 0\">\n",
    "    <tr>\n",
    "        <th>Symbol</th>\n",
    "        <th style=\"text-align:left\">Description</th>\n",
    "    </tr>\n",
    "    <tr>\n",
    "        <td style=\"text-align:left\">$\\alpha$</td>\n",
    "        <td style=\"text-align:left\">Example variable</td>\n",
    "    </tr>\n",
    "    <tr>\n",
    "        <td style=\"text-align:left\">$c$</td>\n",
    "        <td style=\"text-align:left\">Example coefficient</td>\n",
    "    </tr>\n",
    "</table>"
   ]
  },
  {
   "cell_type": "markdown",
   "metadata": {},
   "source": [
    "## Example Section"
   ]
  },
  {
   "cell_type": "code",
   "execution_count": 19,
   "metadata": {},
   "outputs": [
    {
     "data": {
      "text/plain": [
       "6.283"
      ]
     },
     "execution_count": 19,
     "metadata": {},
     "output_type": "execute_result"
    }
   ],
   "source": [
    "# write code, generate plots, add tables, include explainations, etc.\n",
    "\n",
    "r = 1\n",
    "round(2 * pi * r, 3)"
   ]
  },
  {
   "cell_type": "markdown",
   "metadata": {},
   "source": [
    "### Example Subsection 1\n",
    "\n",
    "This is a subsection."
   ]
  },
  {
   "cell_type": "code",
   "execution_count": 11,
   "metadata": {
    "tags": [
     "hide_input"
    ]
   },
   "outputs": [
    {
     "name": "stdout",
     "output_type": "stream",
     "text": [
      "This output will be displayed in the HTML converted notebook, but you will not see the input code cell.\n"
     ]
    }
   ],
   "source": [
    "# Cell input will be hidden in HTML converted notebook by the use of a cell tag.  Cell output will be displayed.\n",
    "# To see tags, go to dropdown View / Cell Toolbar / Tags\n",
    "\n",
    "print('This output will be displayed in the HTML converted notebook, but you will not see the input code cell.')"
   ]
  },
  {
   "cell_type": "markdown",
   "metadata": {},
   "source": [
    "### Example Subsection 2\n",
    "\n",
    "This is another subsection."
   ]
  },
  {
   "cell_type": "code",
   "execution_count": 3,
   "metadata": {
    "tags": [
     "hide_cell"
    ]
   },
   "outputs": [
    {
     "name": "stdout",
     "output_type": "stream",
     "text": [
      "This input code cell AND its output will NOT display in the HTML converted notebook.\n"
     ]
    }
   ],
   "source": [
    "# Entire cell (input & output) will be hidden in HTML converted notebook by the use of a cell tag.\n",
    "# To see tags, go to dropdown View / Cell Toolbar / Tags\n",
    "\n",
    "print('This input code cell AND its output will NOT display in the HTML converted notebook.')"
   ]
  },
  {
   "cell_type": "markdown",
   "metadata": {},
   "source": [
    "Example of inline equation: $\\frac{x}{y} = z$\n",
    "\n",
    "Example of displayed equation: $$\\frac{x}{y} = z$$"
   ]
  },
  {
   "cell_type": "markdown",
   "metadata": {},
   "source": [
    "There are no requirements on the use of the various styles of alert boxes below.  They only suggest example use cases."
   ]
  },
  {
   "cell_type": "markdown",
   "metadata": {},
   "source": [
    "<div class=\"alert alert-block alert-info\" style=\"box-shadow: 2px 2px 4px 0px rgba(0, 0, 0, .13);\">Put a tip or note here!</div>"
   ]
  },
  {
   "cell_type": "markdown",
   "metadata": {},
   "source": [
    "<div class=\"alert alert-block alert-warning\" style=\"box-shadow: 2px 2px 4px 0px rgba(0, 0, 0, .13);\">Illustrate an example or mathematical equation here!</div>"
   ]
  },
  {
   "cell_type": "markdown",
   "metadata": {},
   "source": [
    "<div class=\"alert alert-block alert-success\" style=\"box-shadow: 2px 2px 4px 0px rgba(0, 0, 0, .13);\">Perhaps the solution to a problem could go here!</div>"
   ]
  },
  {
   "cell_type": "markdown",
   "metadata": {},
   "source": [
    "<div class=\"alert alert-block alert-danger\" style=\"box-shadow: 2px 2px 4px 0px rgba(0, 0, 0, .13);\">Serious warning or concern could ge here!</div>"
   ]
  },
  {
   "cell_type": "markdown",
   "metadata": {},
   "source": [
    "---\n",
    "\n",
    "<div class=\"alert alert-block alert-info\" style=\"box-shadow: 2px 2px 4px 0px rgba(0, 0, 0, .13);\">\n",
    "    <h3>Learn More</h3><br>\n",
    "    Continue reading the <a href=\"https://www.drivetrainhub.com/code/notebooks\">Drivetrain Hub | Notebook Series</a> to further understand ... <i>add description</i>\n",
    "</div>"
   ]
  },
  {
   "cell_type": "markdown",
   "metadata": {},
   "source": [
    "<div class=\"alert alert-block alert-info\" style=\"box-shadow: 2px 2px 4px 0px rgba(0, 0, 0, .13);\">\n",
    "    <h3>Improve Notebook</h3><br>\n",
    "    Our notebooks are publicly hosted in <a href=\"https://github.com/drivetrainhub/notebooks/\">GitHub repositories</a>, available for anyone to view and propose edits.\n",
    "</div>"
   ]
  },
  {
   "cell_type": "markdown",
   "metadata": {},
   "source": [
    "## References\n",
    "\n",
    "*The following is only an example.  Remove this statement and the example references.*\n",
    "\n",
    "1. [Drivetrain Hub](https://www.drivetrainhub.com)\n",
    "2. [Drivetrain Hub notebooks repository](https://github.com/drivetrainhub/notebooks)"
   ]
  }
 ],
 "metadata": {
  "kernelspec": {
   "display_name": "Python 3",
   "language": "python",
   "name": "python3"
  },
  "language_info": {
   "codemirror_mode": {
    "name": "ipython",
    "version": 3
   },
   "file_extension": ".py",
   "mimetype": "text/x-python",
   "name": "python",
   "nbconvert_exporter": "python",
   "pygments_lexer": "ipython3",
   "version": "3.7.2"
  }
 },
 "nbformat": 4,
 "nbformat_minor": 2
}
