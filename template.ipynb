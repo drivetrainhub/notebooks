{
 "cells": [
  {
   "cell_type": "markdown",
   "metadata": {},
   "source": [
    "[<img align=\"left\" width=\"140px\" src=\"https://storage.googleapis.com/static.drivetrainhub.com/img/dh_logo_text_217x80.png\"/>](https://drivetrainhub.com)\n",
    "\n",
    "<div align=\"right\">© 2020 Drivetrain Hub LLC</div>"
   ]
  },
  {
   "cell_type": "markdown",
   "metadata": {},
   "source": [
    "# Category / Title\n",
    "---\n",
    "\n",
    "**Authors**:  [First Last](https://github.com/<username>)\n",
    "\n",
    "**Description**:  Description of the notebook."
   ]
  },
  {
   "cell_type": "markdown",
   "metadata": {},
   "source": [
    "## Table of Contents\n",
    "\n",
    "1. [Introduction](#Introduction)\n",
    "1. [My Section](#My-Section)\n",
    "    1. [Subsection 1](#Subsection-1)\n",
    "    1. [Subsection 2](#Subsection-2)\n",
    "1. [Alert Boxes](#Alert-Boxes)\n",
    "1. [References](#References)"
   ]
  },
  {
   "cell_type": "markdown",
   "metadata": {
    "tags": [
     "hide_cell"
    ]
   },
   "source": [
    "#### Notebook imports and settings"
   ]
  },
  {
   "cell_type": "code",
   "execution_count": 5,
   "metadata": {
    "tags": [
     "hide_cell"
    ]
   },
   "outputs": [],
   "source": [
    "from math import pi\n",
    "import template_module as tm"
   ]
  },
  {
   "cell_type": "code",
   "execution_count": 6,
   "metadata": {
    "tags": [
     "hide_cell"
    ]
   },
   "outputs": [
    {
     "name": "stdout",
     "output_type": "stream",
     "text": [
      "The autoreload extension is already loaded. To reload it, use:\n",
      "  %reload_ext autoreload\n"
     ]
    }
   ],
   "source": [
    "# DEVELOPMENT USE: %autoreload 1\n",
    "# PRODUCTION USE: %autoreload 0\n",
    "%load_ext autoreload\n",
    "%autoreload 1\n",
    "%aimport template_module"
   ]
  },
  {
   "cell_type": "markdown",
   "metadata": {
    "tags": [
     "hide_cell"
    ]
   },
   "source": [
    "*FIXME - Delete these notes when authoring a notebook*:  \n",
    "1. Custom LaTeX commands can be defined here for convenience.  \n",
    "    1. An example is provided below, allowing the use of LaTeX command **\\deg** throughout the notebook.  For example, $90\\deg$.\n",
    "1. The next cell type is *Raw NBConvert*, which must contain the same set of custom LaTeX commands to successfully convert to HTML for online viewing.  \n",
    "    1. To create a *Raw NBConvert* cell, go to dropdown Cell > Cell Type > Raw NBConvert.\n",
    "\n",
    "$\\LaTeX$ commands\n",
    "$\\newcommand{\\deg}{^\\circ}$"
   ]
  },
  {
   "cell_type": "raw",
   "metadata": {},
   "source": [
    "$\\newcommand{\\deg}{^\\circ}$"
   ]
  },
  {
   "cell_type": "markdown",
   "metadata": {},
   "source": [
    "## Introduction\n",
    "\n",
    "Example introduction to the notebook topic.\n",
    "\n",
    "### Nomenclature\n",
    "\n",
    "<table style=\"margin-left: 0\">\n",
    "    <tr>\n",
    "        <th>Symbol</th>\n",
    "        <th style=\"text-align:left\">Description</th>\n",
    "    </tr>\n",
    "    <tr>\n",
    "        <td style=\"text-align:left\">$\\alpha$</td>\n",
    "        <td style=\"text-align:left\">Example variable</td>\n",
    "    </tr>\n",
    "    <tr>\n",
    "        <td style=\"text-align:left\">$c$</td>\n",
    "        <td style=\"text-align:left\">Example coefficient</td>\n",
    "    </tr>\n",
    "</table>"
   ]
  },
  {
   "cell_type": "markdown",
   "metadata": {},
   "source": [
    "## My Section\n",
    "\n",
    "This is my section about how to include a section in a notebook."
   ]
  },
  {
   "cell_type": "code",
   "execution_count": 7,
   "metadata": {},
   "outputs": [
    {
     "data": {
      "text/plain": [
       "6.283"
      ]
     },
     "execution_count": 7,
     "metadata": {},
     "output_type": "execute_result"
    }
   ],
   "source": [
    "# write code, generate plots, add tables, include explainations, etc.\n",
    "\n",
    "r = 1\n",
    "round(2 * pi * r, 3)"
   ]
  },
  {
   "cell_type": "markdown",
   "metadata": {},
   "source": [
    "Below is an example of displaying an image from an `img` folder in the same directory as the notebook.\n",
    "\n",
    "We recommend [Inkscape](https://inkscape.org/) for creating high quality 2D graphics.\n",
    "\n",
    "<img src=\"./img/drawing.svg\" alt=\"Example image\" style=\"height: 150px\"/>\n",
    "<p style=\"text-align: center; font-weight: bold;\">Example image caption</p>"
   ]
  },
  {
   "cell_type": "markdown",
   "metadata": {},
   "source": [
    "### Subsection 1\n",
    "\n",
    "This is a subsection of [My Section](#My-Section)."
   ]
  },
  {
   "cell_type": "code",
   "execution_count": 8,
   "metadata": {
    "scrolled": true,
    "tags": [
     "hide_input"
    ]
   },
   "outputs": [
    {
     "name": "stdout",
     "output_type": "stream",
     "text": [
      "This output will be displayed in the HTML converted notebook, but you will not see the input code cell.\n"
     ]
    }
   ],
   "source": [
    "# Cell input will be hidden in HTML converted notebook by the use of a cell tag.  Cell output will be displayed.\n",
    "# To see tags, go to dropdown View / Cell Toolbar / Tags\n",
    "\n",
    "print('This output will be displayed in the HTML converted notebook, but you will not see the input code cell.')"
   ]
  },
  {
   "cell_type": "markdown",
   "metadata": {},
   "source": [
    "<div class=\"alert alert-block alert-info\" style=\"box-shadow: 2px 2px 4px 0px rgba(0, 0, 0, .13);\">\n",
    "    An example note to provide the key takeaway(s) for this subsection.\n",
    "</div>"
   ]
  },
  {
   "cell_type": "markdown",
   "metadata": {},
   "source": [
    "### Subsection 2\n",
    "\n",
    "This is another subsection of [My Section](#My-Section)."
   ]
  },
  {
   "cell_type": "code",
   "execution_count": 9,
   "metadata": {
    "scrolled": true,
    "tags": [
     "hide_cell"
    ]
   },
   "outputs": [
    {
     "name": "stdout",
     "output_type": "stream",
     "text": [
      "This input code cell AND its output will NOT display in the HTML converted notebook.\n"
     ]
    }
   ],
   "source": [
    "# Entire cell (input & output) will be hidden in HTML converted notebook by the use of a cell tag.\n",
    "# To see tags, go to dropdown View / Cell Toolbar / Tags\n",
    "\n",
    "print('This input code cell AND its output will NOT display in the HTML converted notebook.')"
   ]
  },
  {
   "cell_type": "markdown",
   "metadata": {},
   "source": [
    "#### Math Equations\n",
    "\n",
    "Example of inline equation: $z = \\frac{x}{y}$\n",
    "\n",
    "Example of displayed equation: $$z = \\frac{x}{y}$$\n",
    "\n",
    "<div class=\"alert alert-block alert-danger\" style=\"box-shadow: 2px 2px 4px 0px rgba(0, 0, 0, .13);\">\n",
    "    Division by zero is an invalid math operation.\n",
    "</div>"
   ]
  },
  {
   "cell_type": "markdown",
   "metadata": {},
   "source": [
    "<div class=\"alert alert-block alert-warning\" style=\"box-shadow: 2px 2px 4px 0px rgba(0, 0, 0, .13);\">\n",
    "    <h3>Example | Division</h3>\n",
    "    <h4>GIVEN</h4>Input variables for the numerator and denominator.\n",
    "    <h4>FIND</h4>Solve for the quotient.\n",
    "    <h4>SOLUTION</h4>See below.\n",
    "</div>"
   ]
  },
  {
   "cell_type": "code",
   "execution_count": 10,
   "metadata": {},
   "outputs": [
    {
     "name": "stdout",
     "output_type": "stream",
     "text": [
      "2.0\n"
     ]
    }
   ],
   "source": [
    "# GIVEN\n",
    "# -----\n",
    "x = 10\n",
    "y = 5\n",
    "\n",
    "# SOLUTION\n",
    "# --------\n",
    "z = tm.divide(x, y)\n",
    "\n",
    "print(z)"
   ]
  },
  {
   "cell_type": "markdown",
   "metadata": {},
   "source": [
    "## Alert Boxes\n",
    "\n",
    "There are no requirements on the use of the various styles of alert boxes below.  Recommended use cases are stated for each.  \n",
    "\n",
    "*You can also refer to other notebooks to see how they are being used.*\n",
    "\n",
    "<div class=\"alert alert-block alert-info\" style=\"box-shadow: 2px 2px 4px 0px rgba(0, 0, 0, .13);\">\n",
    "    A general tip or note could go here.\n",
    "</div>\n",
    "\n",
    "<div class=\"alert alert-block alert-warning\" style=\"box-shadow: 2px 2px 4px 0px rgba(0, 0, 0, .13);\">\n",
    "    An example could go here, as demonstrated earlier in the template.\n",
    "</div>\n",
    "\n",
    "<div class=\"alert alert-block alert-success\" style=\"box-shadow: 2px 2px 4px 0px rgba(0, 0, 0, .13);\">\n",
    "    A positive suggestion or solution to a problem could go here.\n",
    "</div>\n",
    "\n",
    "<div class=\"alert alert-block alert-danger\" style=\"box-shadow: 2px 2px 4px 0px rgba(0, 0, 0, .13);\">\n",
    "    A serious warning or concern could ge here.\n",
    "</div>"
   ]
  },
  {
   "cell_type": "markdown",
   "metadata": {},
   "source": [
    "---\n",
    "\n",
    "<div class=\"alert alert-block alert-info\" style=\"box-shadow: 2px 2px 4px 0px rgba(0, 0, 0, .13);\">\n",
    "    <h3>Learn More</h3><br>\n",
    "    Continue reading the <a href=\"https://drivetrainhub.com/notebooks/\">Drivetrain Hub | Notebook Series</a> to further understand ... <i>add description</i>\n",
    "</div>"
   ]
  },
  {
   "cell_type": "markdown",
   "metadata": {},
   "source": [
    "<div class=\"alert alert-block alert-info\" style=\"box-shadow: 2px 2px 4px 0px rgba(0, 0, 0, .13);\">\n",
    "    <h3>Improve Notebook</h3><br>\n",
    "    Our notebooks are publicly hosted in <a href=\"https://github.com/drivetrainhub/notebooks/\">GitHub repositories</a>, available for anyone to view and propose edits.\n",
    "</div>"
   ]
  },
  {
   "cell_type": "markdown",
   "metadata": {},
   "source": [
    "## References\n",
    "\n",
    "*The following is only an example.  Remove this statement and the example references.*\n",
    "\n",
    "1. [Drivetrain Hub](https://drivetrainhub.com)\n",
    "2. [Drivetrain Hub notebooks repository](https://github.com/drivetrainhub/notebooks)"
   ]
  }
 ],
 "metadata": {
  "kernelspec": {
   "display_name": "Python 3",
   "language": "python",
   "name": "python3"
  },
  "language_info": {
   "codemirror_mode": {
    "name": "ipython",
    "version": 3
   },
   "file_extension": ".py",
   "mimetype": "text/x-python",
   "name": "python",
   "nbconvert_exporter": "python",
   "pygments_lexer": "ipython3",
   "version": "3.7.2"
  },
  "pycharm": {
   "stem_cell": {
    "cell_type": "raw",
    "source": [],
    "metadata": {
     "collapsed": false
    }
   }
  }
 },
 "nbformat": 4,
 "nbformat_minor": 2
}